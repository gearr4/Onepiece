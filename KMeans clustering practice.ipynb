{
 "cells": [
  {
   "cell_type": "code",
   "execution_count": 1,
   "metadata": {},
   "outputs": [],
   "source": [
    "import numpy as np\n",
    "import pandas as pd"
   ]
  },
  {
   "cell_type": "code",
   "execution_count": 2,
   "metadata": {},
   "outputs": [],
   "source": [
    "from sklearn.cluster import KMeans\n",
    "from sklearn.datasets import make_blobs"
   ]
  },
  {
   "cell_type": "code",
   "execution_count": 6,
   "metadata": {},
   "outputs": [],
   "source": [
    "nsamples=100"
   ]
  },
  {
   "cell_type": "code",
   "execution_count": 7,
   "metadata": {},
   "outputs": [],
   "source": [
    "random_state=10"
   ]
  },
  {
   "cell_type": "code",
   "execution_count": 8,
   "metadata": {},
   "outputs": [],
   "source": [
    "x,y=make_blobs(n_samples=nsamples,n_features=5,random_state=random_state)"
   ]
  },
  {
   "cell_type": "code",
   "execution_count": 15,
   "metadata": {},
   "outputs": [
    {
     "name": "stdout",
     "output_type": "stream",
     "text": [
      "[1 0 2 2 0 0 0 1 0 2 1 2 0 1 0 2 1 2 1 0 0 0 2 1 1 1 0 1 2 2 1 2 1 2 2 0 0\n",
      " 0 0 1 1 1 0 1 0 0 0 2 2 2 2 0 2 1 1 1 2 1 1 2 2 0 2 2 1 2 2 1 1 0 1 0 2 0\n",
      " 1 1 2 1 2 0 0 1 1 0 2 0 2 2 2 0 1 1 0 2 0 0 2 0 1 0]\n"
     ]
    }
   ],
   "source": [
    "print(y)"
   ]
  },
  {
   "cell_type": "code",
   "execution_count": 14,
   "metadata": {},
   "outputs": [
    {
     "data": {
      "text/plain": [
       "array([3, 2, 1, 1, 2, 2, 2, 3, 2, 1, 3, 1, 2, 0, 2, 1, 0, 1, 3, 2, 2, 2,\n",
       "       1, 3, 0, 3, 2, 0, 1, 1, 0, 1, 0, 1, 1, 2, 2, 2, 2, 3, 0, 0, 2, 0,\n",
       "       2, 2, 2, 1, 1, 1, 1, 2, 1, 3, 3, 0, 1, 3, 3, 1, 1, 2, 1, 1, 3, 1,\n",
       "       1, 0, 0, 2, 3, 2, 1, 2, 3, 3, 1, 3, 1, 2, 2, 0, 3, 2, 1, 2, 1, 1,\n",
       "       1, 2, 3, 0, 2, 1, 2, 2, 1, 2, 3, 2])"
      ]
     },
     "execution_count": 14,
     "metadata": {},
     "output_type": "execute_result"
    }
   ],
   "source": [
    "predict_y=KMeans(n_clusters=4,random_state=random_state).fit_predict(x)\n",
    "predict_y"
   ]
  },
  {
   "cell_type": "code",
   "execution_count": null,
   "metadata": {},
   "outputs": [],
   "source": []
  }
 ],
 "metadata": {
  "kernelspec": {
   "display_name": "Python 3",
   "language": "python",
   "name": "python3"
  },
  "language_info": {
   "codemirror_mode": {
    "name": "ipython",
    "version": 3
   },
   "file_extension": ".py",
   "mimetype": "text/x-python",
   "name": "python",
   "nbconvert_exporter": "python",
   "pygments_lexer": "ipython3",
   "version": "3.7.3"
  }
 },
 "nbformat": 4,
 "nbformat_minor": 2
}
